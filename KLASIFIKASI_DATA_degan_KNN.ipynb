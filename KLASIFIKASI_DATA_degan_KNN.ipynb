{
  "nbformat": 4,
  "nbformat_minor": 0,
  "metadata": {
    "colab": {
      "provenance": [],
      "authorship_tag": "ABX9TyO165duDnd2En2/e8LYUVXo",
      "include_colab_link": true
    },
    "kernelspec": {
      "name": "python3",
      "display_name": "Python 3"
    },
    "language_info": {
      "name": "python"
    }
  },
  "cells": [
    {
      "cell_type": "markdown",
      "metadata": {
        "id": "view-in-github",
        "colab_type": "text"
      },
      "source": [
        "<a href=\"https://colab.research.google.com/github/Ramadhan1212/KNN/blob/main/KLASIFIKASI_DATA_degan_KNN.ipynb\" target=\"_parent\"><img src=\"https://colab.research.google.com/assets/colab-badge.svg\" alt=\"Open In Colab\"/></a>"
      ]
    },
    {
      "cell_type": "markdown",
      "source": [
        "Nama : Iqbal Putra Ramadhan\n",
        "<br>\n",
        "NIM  : 1197050054\n",
        "\n",
        "## "
      ],
      "metadata": {
        "id": "ikXmvyr6UXuE"
      }
    },
    {
      "cell_type": "code",
      "execution_count": 1,
      "metadata": {
        "id": "iQnoadjvUT5k"
      },
      "outputs": [],
      "source": [
        "import numpy as np\n",
        "import matplotlib.pyplot as plt\n",
        "import pandas as pd"
      ]
    },
    {
      "cell_type": "code",
      "source": [
        "dataset = pd.read_csv(\"https://raw.githubusercontent.com/Ramadhan1212/KNN/main/Social%20Network%20Ads.csv\")"
      ],
      "metadata": {
        "id": "CR1GlLRyeZka"
      },
      "execution_count": 9,
      "outputs": []
    },
    {
      "cell_type": "code",
      "source": [
        "dataset.head()"
      ],
      "metadata": {
        "colab": {
          "base_uri": "https://localhost:8080/",
          "height": 206
        },
        "id": "mbwIr-dWempi",
        "outputId": "313c4736-bcfe-42fc-a3c2-d3b8781770dd"
      },
      "execution_count": 10,
      "outputs": [
        {
          "output_type": "execute_result",
          "data": {
            "text/plain": [
              "    User ID  Gender  Age  EstimatedSalary  Purchased\n",
              "0  15624510    Male   19            19000          0\n",
              "1  15810944    Male   35            20000          0\n",
              "2  15668575  Female   26            43000          0\n",
              "3  15603246  Female   27            57000          0\n",
              "4  15804002    Male   19            76000          0"
            ],
            "text/html": [
              "\n",
              "  <div id=\"df-fdbd1dc0-4a79-4b60-a821-56722cd8fdcd\">\n",
              "    <div class=\"colab-df-container\">\n",
              "      <div>\n",
              "<style scoped>\n",
              "    .dataframe tbody tr th:only-of-type {\n",
              "        vertical-align: middle;\n",
              "    }\n",
              "\n",
              "    .dataframe tbody tr th {\n",
              "        vertical-align: top;\n",
              "    }\n",
              "\n",
              "    .dataframe thead th {\n",
              "        text-align: right;\n",
              "    }\n",
              "</style>\n",
              "<table border=\"1\" class=\"dataframe\">\n",
              "  <thead>\n",
              "    <tr style=\"text-align: right;\">\n",
              "      <th></th>\n",
              "      <th>User ID</th>\n",
              "      <th>Gender</th>\n",
              "      <th>Age</th>\n",
              "      <th>EstimatedSalary</th>\n",
              "      <th>Purchased</th>\n",
              "    </tr>\n",
              "  </thead>\n",
              "  <tbody>\n",
              "    <tr>\n",
              "      <th>0</th>\n",
              "      <td>15624510</td>\n",
              "      <td>Male</td>\n",
              "      <td>19</td>\n",
              "      <td>19000</td>\n",
              "      <td>0</td>\n",
              "    </tr>\n",
              "    <tr>\n",
              "      <th>1</th>\n",
              "      <td>15810944</td>\n",
              "      <td>Male</td>\n",
              "      <td>35</td>\n",
              "      <td>20000</td>\n",
              "      <td>0</td>\n",
              "    </tr>\n",
              "    <tr>\n",
              "      <th>2</th>\n",
              "      <td>15668575</td>\n",
              "      <td>Female</td>\n",
              "      <td>26</td>\n",
              "      <td>43000</td>\n",
              "      <td>0</td>\n",
              "    </tr>\n",
              "    <tr>\n",
              "      <th>3</th>\n",
              "      <td>15603246</td>\n",
              "      <td>Female</td>\n",
              "      <td>27</td>\n",
              "      <td>57000</td>\n",
              "      <td>0</td>\n",
              "    </tr>\n",
              "    <tr>\n",
              "      <th>4</th>\n",
              "      <td>15804002</td>\n",
              "      <td>Male</td>\n",
              "      <td>19</td>\n",
              "      <td>76000</td>\n",
              "      <td>0</td>\n",
              "    </tr>\n",
              "  </tbody>\n",
              "</table>\n",
              "</div>\n",
              "      <button class=\"colab-df-convert\" onclick=\"convertToInteractive('df-fdbd1dc0-4a79-4b60-a821-56722cd8fdcd')\"\n",
              "              title=\"Convert this dataframe to an interactive table.\"\n",
              "              style=\"display:none;\">\n",
              "        \n",
              "  <svg xmlns=\"http://www.w3.org/2000/svg\" height=\"24px\"viewBox=\"0 0 24 24\"\n",
              "       width=\"24px\">\n",
              "    <path d=\"M0 0h24v24H0V0z\" fill=\"none\"/>\n",
              "    <path d=\"M18.56 5.44l.94 2.06.94-2.06 2.06-.94-2.06-.94-.94-2.06-.94 2.06-2.06.94zm-11 1L8.5 8.5l.94-2.06 2.06-.94-2.06-.94L8.5 2.5l-.94 2.06-2.06.94zm10 10l.94 2.06.94-2.06 2.06-.94-2.06-.94-.94-2.06-.94 2.06-2.06.94z\"/><path d=\"M17.41 7.96l-1.37-1.37c-.4-.4-.92-.59-1.43-.59-.52 0-1.04.2-1.43.59L10.3 9.45l-7.72 7.72c-.78.78-.78 2.05 0 2.83L4 21.41c.39.39.9.59 1.41.59.51 0 1.02-.2 1.41-.59l7.78-7.78 2.81-2.81c.8-.78.8-2.07 0-2.86zM5.41 20L4 18.59l7.72-7.72 1.47 1.35L5.41 20z\"/>\n",
              "  </svg>\n",
              "      </button>\n",
              "      \n",
              "  <style>\n",
              "    .colab-df-container {\n",
              "      display:flex;\n",
              "      flex-wrap:wrap;\n",
              "      gap: 12px;\n",
              "    }\n",
              "\n",
              "    .colab-df-convert {\n",
              "      background-color: #E8F0FE;\n",
              "      border: none;\n",
              "      border-radius: 50%;\n",
              "      cursor: pointer;\n",
              "      display: none;\n",
              "      fill: #1967D2;\n",
              "      height: 32px;\n",
              "      padding: 0 0 0 0;\n",
              "      width: 32px;\n",
              "    }\n",
              "\n",
              "    .colab-df-convert:hover {\n",
              "      background-color: #E2EBFA;\n",
              "      box-shadow: 0px 1px 2px rgba(60, 64, 67, 0.3), 0px 1px 3px 1px rgba(60, 64, 67, 0.15);\n",
              "      fill: #174EA6;\n",
              "    }\n",
              "\n",
              "    [theme=dark] .colab-df-convert {\n",
              "      background-color: #3B4455;\n",
              "      fill: #D2E3FC;\n",
              "    }\n",
              "\n",
              "    [theme=dark] .colab-df-convert:hover {\n",
              "      background-color: #434B5C;\n",
              "      box-shadow: 0px 1px 3px 1px rgba(0, 0, 0, 0.15);\n",
              "      filter: drop-shadow(0px 1px 2px rgba(0, 0, 0, 0.3));\n",
              "      fill: #FFFFFF;\n",
              "    }\n",
              "  </style>\n",
              "\n",
              "      <script>\n",
              "        const buttonEl =\n",
              "          document.querySelector('#df-fdbd1dc0-4a79-4b60-a821-56722cd8fdcd button.colab-df-convert');\n",
              "        buttonEl.style.display =\n",
              "          google.colab.kernel.accessAllowed ? 'block' : 'none';\n",
              "\n",
              "        async function convertToInteractive(key) {\n",
              "          const element = document.querySelector('#df-fdbd1dc0-4a79-4b60-a821-56722cd8fdcd');\n",
              "          const dataTable =\n",
              "            await google.colab.kernel.invokeFunction('convertToInteractive',\n",
              "                                                     [key], {});\n",
              "          if (!dataTable) return;\n",
              "\n",
              "          const docLinkHtml = 'Like what you see? Visit the ' +\n",
              "            '<a target=\"_blank\" href=https://colab.research.google.com/notebooks/data_table.ipynb>data table notebook</a>'\n",
              "            + ' to learn more about interactive tables.';\n",
              "          element.innerHTML = '';\n",
              "          dataTable['output_type'] = 'display_data';\n",
              "          await google.colab.output.renderOutput(dataTable, element);\n",
              "          const docLink = document.createElement('div');\n",
              "          docLink.innerHTML = docLinkHtml;\n",
              "          element.appendChild(docLink);\n",
              "        }\n",
              "      </script>\n",
              "    </div>\n",
              "  </div>\n",
              "  "
            ]
          },
          "metadata": {},
          "execution_count": 10
        }
      ]
    },
    {
      "cell_type": "code",
      "source": [
        "x = dataset.iloc[:, [2,3]].values\n",
        "y = dataset.iloc[:, -1].values\n",
        "\n",
        "print(x)"
      ],
      "metadata": {
        "colab": {
          "base_uri": "https://localhost:8080/"
        },
        "id": "NvVeP1IvfDyL",
        "outputId": "4837f4f8-95cb-404c-8e57-88cfbd3401d5"
      },
      "execution_count": 14,
      "outputs": [
        {
          "output_type": "stream",
          "name": "stdout",
          "text": [
            "[[    19  19000]\n",
            " [    35  20000]\n",
            " [    26  43000]\n",
            " [    27  57000]\n",
            " [    19  76000]\n",
            " [    27  58000]\n",
            " [    27  84000]\n",
            " [    32 150000]\n",
            " [    25  33000]\n",
            " [    35  65000]\n",
            " [    26  80000]\n",
            " [    26  52000]\n",
            " [    20  86000]\n",
            " [    32  18000]\n",
            " [    18  82000]\n",
            " [    29  80000]\n",
            " [    47  25000]\n",
            " [    45  26000]\n",
            " [    46  28000]\n",
            " [    48  29000]\n",
            " [    45  22000]\n",
            " [    47  49000]\n",
            " [    48  41000]\n",
            " [    45  22000]\n",
            " [    46  23000]\n",
            " [    47  20000]\n",
            " [    49  28000]\n",
            " [    47  30000]\n",
            " [    29  43000]\n",
            " [    31  18000]\n",
            " [    31  74000]\n",
            " [    27 137000]\n",
            " [    21  16000]\n",
            " [    28  44000]\n",
            " [    27  90000]\n",
            " [    35  27000]\n",
            " [    33  28000]\n",
            " [    30  49000]\n",
            " [    26  72000]\n",
            " [    27  31000]\n",
            " [    27  17000]\n",
            " [    33  51000]\n",
            " [    35 108000]\n",
            " [    30  15000]\n",
            " [    28  84000]\n",
            " [    23  20000]\n",
            " [    25  79000]\n",
            " [    27  54000]\n",
            " [    30 135000]\n",
            " [    31  89000]\n",
            " [    24  32000]\n",
            " [    18  44000]\n",
            " [    29  83000]\n",
            " [    35  23000]\n",
            " [    27  58000]\n",
            " [    24  55000]\n",
            " [    23  48000]\n",
            " [    28  79000]\n",
            " [    22  18000]\n",
            " [    32 117000]\n",
            " [    27  20000]\n",
            " [    25  87000]\n",
            " [    23  66000]\n",
            " [    32 120000]\n",
            " [    59  83000]\n",
            " [    24  58000]\n",
            " [    24  19000]\n",
            " [    23  82000]\n",
            " [    22  63000]\n",
            " [    31  68000]\n",
            " [    25  80000]\n",
            " [    24  27000]\n",
            " [    20  23000]\n",
            " [    33 113000]\n",
            " [    32  18000]\n",
            " [    34 112000]\n",
            " [    18  52000]\n",
            " [    22  27000]\n",
            " [    28  87000]\n",
            " [    26  17000]\n",
            " [    30  80000]\n",
            " [    39  42000]\n",
            " [    20  49000]\n",
            " [    35  88000]\n",
            " [    30  62000]\n",
            " [    31 118000]\n",
            " [    24  55000]\n",
            " [    28  85000]\n",
            " [    26  81000]\n",
            " [    35  50000]\n",
            " [    22  81000]\n",
            " [    30 116000]\n",
            " [    26  15000]\n",
            " [    29  28000]\n",
            " [    29  83000]\n",
            " [    35  44000]\n",
            " [    35  25000]\n",
            " [    28 123000]\n",
            " [    35  73000]\n",
            " [    28  37000]\n",
            " [    27  88000]\n",
            " [    28  59000]\n",
            " [    32  86000]\n",
            " [    33 149000]\n",
            " [    19  21000]\n",
            " [    21  72000]\n",
            " [    26  35000]\n",
            " [    27  89000]\n",
            " [    26  86000]\n",
            " [    38  80000]\n",
            " [    39  71000]\n",
            " [    37  71000]\n",
            " [    38  61000]\n",
            " [    37  55000]\n",
            " [    42  80000]\n",
            " [    40  57000]\n",
            " [    35  75000]\n",
            " [    36  52000]\n",
            " [    40  59000]\n",
            " [    41  59000]\n",
            " [    36  75000]\n",
            " [    37  72000]\n",
            " [    40  75000]\n",
            " [    35  53000]\n",
            " [    41  51000]\n",
            " [    39  61000]\n",
            " [    42  65000]\n",
            " [    26  32000]\n",
            " [    30  17000]\n",
            " [    26  84000]\n",
            " [    31  58000]\n",
            " [    33  31000]\n",
            " [    30  87000]\n",
            " [    21  68000]\n",
            " [    28  55000]\n",
            " [    23  63000]\n",
            " [    20  82000]\n",
            " [    30 107000]\n",
            " [    28  59000]\n",
            " [    19  25000]\n",
            " [    19  85000]\n",
            " [    18  68000]\n",
            " [    35  59000]\n",
            " [    30  89000]\n",
            " [    34  25000]\n",
            " [    24  89000]\n",
            " [    27  96000]\n",
            " [    41  30000]\n",
            " [    29  61000]\n",
            " [    20  74000]\n",
            " [    26  15000]\n",
            " [    41  45000]\n",
            " [    31  76000]\n",
            " [    36  50000]\n",
            " [    40  47000]\n",
            " [    31  15000]\n",
            " [    46  59000]\n",
            " [    29  75000]\n",
            " [    26  30000]\n",
            " [    32 135000]\n",
            " [    32 100000]\n",
            " [    25  90000]\n",
            " [    37  33000]\n",
            " [    35  38000]\n",
            " [    33  69000]\n",
            " [    18  86000]\n",
            " [    22  55000]\n",
            " [    35  71000]\n",
            " [    29 148000]\n",
            " [    29  47000]\n",
            " [    21  88000]\n",
            " [    34 115000]\n",
            " [    26 118000]\n",
            " [    34  43000]\n",
            " [    34  72000]\n",
            " [    23  28000]\n",
            " [    35  47000]\n",
            " [    25  22000]\n",
            " [    24  23000]\n",
            " [    31  34000]\n",
            " [    26  16000]\n",
            " [    31  71000]\n",
            " [    32 117000]\n",
            " [    33  43000]\n",
            " [    33  60000]\n",
            " [    31  66000]\n",
            " [    20  82000]\n",
            " [    33  41000]\n",
            " [    35  72000]\n",
            " [    28  32000]\n",
            " [    24  84000]\n",
            " [    19  26000]\n",
            " [    29  43000]\n",
            " [    19  70000]\n",
            " [    28  89000]\n",
            " [    34  43000]\n",
            " [    30  79000]\n",
            " [    20  36000]\n",
            " [    26  80000]\n",
            " [    35  22000]\n",
            " [    35  39000]\n",
            " [    49  74000]\n",
            " [    39 134000]\n",
            " [    41  71000]\n",
            " [    58 101000]\n",
            " [    47  47000]\n",
            " [    55 130000]\n",
            " [    52 114000]\n",
            " [    40 142000]\n",
            " [    46  22000]\n",
            " [    48  96000]\n",
            " [    52 150000]\n",
            " [    59  42000]\n",
            " [    35  58000]\n",
            " [    47  43000]\n",
            " [    60 108000]\n",
            " [    49  65000]\n",
            " [    40  78000]\n",
            " [    46  96000]\n",
            " [    59 143000]\n",
            " [    41  80000]\n",
            " [    35  91000]\n",
            " [    37 144000]\n",
            " [    60 102000]\n",
            " [    35  60000]\n",
            " [    37  53000]\n",
            " [    36 126000]\n",
            " [    56 133000]\n",
            " [    40  72000]\n",
            " [    42  80000]\n",
            " [    35 147000]\n",
            " [    39  42000]\n",
            " [    40 107000]\n",
            " [    49  86000]\n",
            " [    38 112000]\n",
            " [    46  79000]\n",
            " [    40  57000]\n",
            " [    37  80000]\n",
            " [    46  82000]\n",
            " [    53 143000]\n",
            " [    42 149000]\n",
            " [    38  59000]\n",
            " [    50  88000]\n",
            " [    56 104000]\n",
            " [    41  72000]\n",
            " [    51 146000]\n",
            " [    35  50000]\n",
            " [    57 122000]\n",
            " [    41  52000]\n",
            " [    35  97000]\n",
            " [    44  39000]\n",
            " [    37  52000]\n",
            " [    48 134000]\n",
            " [    37 146000]\n",
            " [    50  44000]\n",
            " [    52  90000]\n",
            " [    41  72000]\n",
            " [    40  57000]\n",
            " [    58  95000]\n",
            " [    45 131000]\n",
            " [    35  77000]\n",
            " [    36 144000]\n",
            " [    55 125000]\n",
            " [    35  72000]\n",
            " [    48  90000]\n",
            " [    42 108000]\n",
            " [    40  75000]\n",
            " [    37  74000]\n",
            " [    47 144000]\n",
            " [    40  61000]\n",
            " [    43 133000]\n",
            " [    59  76000]\n",
            " [    60  42000]\n",
            " [    39 106000]\n",
            " [    57  26000]\n",
            " [    57  74000]\n",
            " [    38  71000]\n",
            " [    49  88000]\n",
            " [    52  38000]\n",
            " [    50  36000]\n",
            " [    59  88000]\n",
            " [    35  61000]\n",
            " [    37  70000]\n",
            " [    52  21000]\n",
            " [    48 141000]\n",
            " [    37  93000]\n",
            " [    37  62000]\n",
            " [    48 138000]\n",
            " [    41  79000]\n",
            " [    37  78000]\n",
            " [    39 134000]\n",
            " [    49  89000]\n",
            " [    55  39000]\n",
            " [    37  77000]\n",
            " [    35  57000]\n",
            " [    36  63000]\n",
            " [    42  73000]\n",
            " [    43 112000]\n",
            " [    45  79000]\n",
            " [    46 117000]\n",
            " [    58  38000]\n",
            " [    48  74000]\n",
            " [    37 137000]\n",
            " [    37  79000]\n",
            " [    40  60000]\n",
            " [    42  54000]\n",
            " [    51 134000]\n",
            " [    47 113000]\n",
            " [    36 125000]\n",
            " [    38  50000]\n",
            " [    42  70000]\n",
            " [    39  96000]\n",
            " [    38  50000]\n",
            " [    49 141000]\n",
            " [    39  79000]\n",
            " [    39  75000]\n",
            " [    54 104000]\n",
            " [    35  55000]\n",
            " [    45  32000]\n",
            " [    36  60000]\n",
            " [    52 138000]\n",
            " [    53  82000]\n",
            " [    41  52000]\n",
            " [    48  30000]\n",
            " [    48 131000]\n",
            " [    41  60000]\n",
            " [    41  72000]\n",
            " [    42  75000]\n",
            " [    36 118000]\n",
            " [    47 107000]\n",
            " [    38  51000]\n",
            " [    48 119000]\n",
            " [    42  65000]\n",
            " [    40  65000]\n",
            " [    57  60000]\n",
            " [    36  54000]\n",
            " [    58 144000]\n",
            " [    35  79000]\n",
            " [    38  55000]\n",
            " [    39 122000]\n",
            " [    53 104000]\n",
            " [    35  75000]\n",
            " [    38  65000]\n",
            " [    47  51000]\n",
            " [    47 105000]\n",
            " [    41  63000]\n",
            " [    53  72000]\n",
            " [    54 108000]\n",
            " [    39  77000]\n",
            " [    38  61000]\n",
            " [    38 113000]\n",
            " [    37  75000]\n",
            " [    42  90000]\n",
            " [    37  57000]\n",
            " [    36  99000]\n",
            " [    60  34000]\n",
            " [    54  70000]\n",
            " [    41  72000]\n",
            " [    40  71000]\n",
            " [    42  54000]\n",
            " [    43 129000]\n",
            " [    53  34000]\n",
            " [    47  50000]\n",
            " [    42  79000]\n",
            " [    42 104000]\n",
            " [    59  29000]\n",
            " [    58  47000]\n",
            " [    46  88000]\n",
            " [    38  71000]\n",
            " [    54  26000]\n",
            " [    60  46000]\n",
            " [    60  83000]\n",
            " [    39  73000]\n",
            " [    59 130000]\n",
            " [    37  80000]\n",
            " [    46  32000]\n",
            " [    46  74000]\n",
            " [    42  53000]\n",
            " [    41  87000]\n",
            " [    58  23000]\n",
            " [    42  64000]\n",
            " [    48  33000]\n",
            " [    44 139000]\n",
            " [    49  28000]\n",
            " [    57  33000]\n",
            " [    56  60000]\n",
            " [    49  39000]\n",
            " [    39  71000]\n",
            " [    47  34000]\n",
            " [    48  35000]\n",
            " [    48  33000]\n",
            " [    47  23000]\n",
            " [    45  45000]\n",
            " [    60  42000]\n",
            " [    39  59000]\n",
            " [    46  41000]\n",
            " [    51  23000]\n",
            " [    50  20000]\n",
            " [    36  33000]\n",
            " [    49  36000]]\n"
          ]
        }
      ]
    },
    {
      "cell_type": "code",
      "source": [
        "print(y)"
      ],
      "metadata": {
        "colab": {
          "base_uri": "https://localhost:8080/"
        },
        "id": "IDOax-hKfvZi",
        "outputId": "e8d64839-d859-4bfd-d7a0-498e0abb9490"
      },
      "execution_count": 15,
      "outputs": [
        {
          "output_type": "stream",
          "name": "stdout",
          "text": [
            "[0 0 0 0 0 0 0 1 0 0 0 0 0 0 0 0 1 1 1 1 1 1 1 1 1 1 1 1 0 0 0 1 0 0 0 0 0\n",
            " 0 0 0 0 0 0 0 0 0 0 0 1 0 0 0 0 0 0 0 0 0 0 0 0 0 0 1 0 0 0 0 0 0 0 0 0 0\n",
            " 0 1 0 0 0 0 0 0 0 0 0 1 0 0 0 0 0 0 0 0 0 0 0 1 0 0 0 0 0 1 0 0 0 0 0 0 0\n",
            " 0 0 0 0 0 0 0 0 0 0 0 0 0 0 0 0 0 0 0 0 0 0 0 0 0 0 1 0 0 0 0 0 0 0 0 1 0\n",
            " 0 0 0 0 0 0 0 0 0 0 0 1 1 0 0 0 0 0 0 0 1 0 0 0 0 0 0 0 0 0 0 0 0 0 1 0 0\n",
            " 0 0 0 0 0 0 0 0 0 0 0 0 0 0 0 0 0 1 0 1 0 1 0 1 0 1 1 0 0 0 1 0 0 0 1 0 1\n",
            " 1 1 0 0 1 1 0 1 1 0 1 1 0 1 0 0 0 1 1 0 1 1 0 1 0 1 0 1 0 0 1 1 0 1 0 0 1\n",
            " 1 0 1 1 0 1 1 0 0 1 0 0 1 1 1 1 1 0 1 1 1 1 0 1 1 0 1 0 1 0 1 1 1 1 0 0 0\n",
            " 1 1 0 1 1 1 1 1 0 0 0 1 1 0 0 1 0 1 0 1 1 0 1 0 1 1 0 1 1 0 0 0 1 1 0 1 0\n",
            " 0 1 0 1 0 0 1 1 0 0 1 1 0 1 1 0 0 1 0 1 0 1 1 1 0 1 0 1 1 1 0 1 1 1 1 0 1\n",
            " 1 1 0 1 0 1 0 0 1 1 0 1 1 1 1 1 1 0 1 1 1 1 1 1 0 1 1 1 0 1]\n"
          ]
        }
      ]
    },
    {
      "cell_type": "code",
      "source": [
        "from sklearn.model_selection import train_test_split\n",
        "x_train, x_test, y_train , y_test = train_test_split(x, y, test_size = 0.25, random_state = 0)"
      ],
      "metadata": {
        "id": "lZQnm4zUfy8q"
      },
      "execution_count": 17,
      "outputs": []
    },
    {
      "cell_type": "code",
      "source": [
        "len(x_train)"
      ],
      "metadata": {
        "colab": {
          "base_uri": "https://localhost:8080/"
        },
        "id": "fXex9-bFgVoq",
        "outputId": "3fee03cf-c5ce-4d53-e26c-ce33f720567f"
      },
      "execution_count": 19,
      "outputs": [
        {
          "output_type": "execute_result",
          "data": {
            "text/plain": [
              "300"
            ]
          },
          "metadata": {},
          "execution_count": 19
        }
      ]
    },
    {
      "cell_type": "code",
      "source": [
        "len(x)"
      ],
      "metadata": {
        "colab": {
          "base_uri": "https://localhost:8080/"
        },
        "id": "rFI9rtHfgbM1",
        "outputId": "29473705-8448-4b8f-a11f-c52a53f077f5"
      },
      "execution_count": 20,
      "outputs": [
        {
          "output_type": "execute_result",
          "data": {
            "text/plain": [
              "400"
            ]
          },
          "metadata": {},
          "execution_count": 20
        }
      ]
    },
    {
      "cell_type": "code",
      "source": [
        "len(x_test)"
      ],
      "metadata": {
        "colab": {
          "base_uri": "https://localhost:8080/"
        },
        "id": "k40pz-uGghEw",
        "outputId": "e86a2bbe-d894-4ace-f52f-8b38967f1bfa"
      },
      "execution_count": 21,
      "outputs": [
        {
          "output_type": "execute_result",
          "data": {
            "text/plain": [
              "100"
            ]
          },
          "metadata": {},
          "execution_count": 21
        }
      ]
    },
    {
      "cell_type": "code",
      "source": [
        "len(y)"
      ],
      "metadata": {
        "colab": {
          "base_uri": "https://localhost:8080/"
        },
        "id": "vQEKxMg-gioi",
        "outputId": "28ff4a89-0b94-4236-e599-4d111f3a0ad5"
      },
      "execution_count": 22,
      "outputs": [
        {
          "output_type": "execute_result",
          "data": {
            "text/plain": [
              "400"
            ]
          },
          "metadata": {},
          "execution_count": 22
        }
      ]
    },
    {
      "cell_type": "code",
      "source": [
        "len(y_test)"
      ],
      "metadata": {
        "colab": {
          "base_uri": "https://localhost:8080/"
        },
        "id": "B9DcvPWjgloO",
        "outputId": "5dca99da-2c04-416c-a5be-8eb31ca5393b"
      },
      "execution_count": 23,
      "outputs": [
        {
          "output_type": "execute_result",
          "data": {
            "text/plain": [
              "100"
            ]
          },
          "metadata": {},
          "execution_count": 23
        }
      ]
    },
    {
      "cell_type": "code",
      "source": [
        "len(y_train)"
      ],
      "metadata": {
        "colab": {
          "base_uri": "https://localhost:8080/"
        },
        "id": "oRmiJL3Kgn-d",
        "outputId": "d02df210-4361-43f6-dd05-2fc6370a1066"
      },
      "execution_count": 24,
      "outputs": [
        {
          "output_type": "execute_result",
          "data": {
            "text/plain": [
              "300"
            ]
          },
          "metadata": {},
          "execution_count": 24
        }
      ]
    },
    {
      "cell_type": "markdown",
      "source": [
        "## Selanjutkan Kita Scalling agar jarak angka tidak jauh"
      ],
      "metadata": {
        "id": "k9HEPSHthfDi"
      }
    },
    {
      "cell_type": "code",
      "source": [
        "from sklearn.preprocessing import StandardScaler\n",
        "sc = StandardScaler()\n",
        "\n",
        "x_train = sc.fit_transform(x_train)\n",
        "x_test = sc.fit_transform(x_test)"
      ],
      "metadata": {
        "id": "VNaasGXJgs1w"
      },
      "execution_count": 25,
      "outputs": []
    },
    {
      "cell_type": "code",
      "source": [
        "print(x_train)"
      ],
      "metadata": {
        "id": "KHyeBINshYM6"
      },
      "execution_count": null,
      "outputs": []
    },
    {
      "cell_type": "code",
      "source": [
        "print(x_test)"
      ],
      "metadata": {
        "id": "xv9YpBA5iXuS"
      },
      "execution_count": null,
      "outputs": []
    },
    {
      "cell_type": "code",
      "source": [
        "from sklearn.neighbors import KNeighborsClassifier\n",
        "\n",
        "classfier = KNeighborsClassifier(n_neighbors = 5, metric = 'minkowski', p=2)\n",
        "classfier.fit(x_train, y_train)"
      ],
      "metadata": {
        "colab": {
          "base_uri": "https://localhost:8080/"
        },
        "id": "b_A5HfwPhnBa",
        "outputId": "35e48245-900b-4bcc-8cdf-c29d145e63cc"
      },
      "execution_count": 32,
      "outputs": [
        {
          "output_type": "execute_result",
          "data": {
            "text/plain": [
              "KNeighborsClassifier()"
            ]
          },
          "metadata": {},
          "execution_count": 32
        }
      ]
    },
    {
      "cell_type": "code",
      "source": [
        "y_pred = classfier.predict(x_test)"
      ],
      "metadata": {
        "id": "6w5n5W8bioms"
      },
      "execution_count": 33,
      "outputs": []
    },
    {
      "cell_type": "code",
      "source": [
        "from sklearn.metrics import confusion_matrix\n",
        "\n",
        "cm = confusion_matrix(y_test, y_pred)\n",
        "print(cm)"
      ],
      "metadata": {
        "colab": {
          "base_uri": "https://localhost:8080/"
        },
        "id": "sybeiFRIivni",
        "outputId": "48d07a61-37cf-446a-ceac-1ac39da11053"
      },
      "execution_count": 34,
      "outputs": [
        {
          "output_type": "stream",
          "name": "stdout",
          "text": [
            "[[64  4]\n",
            " [ 3 29]]\n"
          ]
        }
      ]
    },
    {
      "cell_type": "markdown",
      "source": [
        "yang di prediksi benar adalah 64 dan yang salah adalah 29, maka nilai akurasi nya adalah 64 + 29 = 93/100 x 100% maka nilai akurasi adalah  93%"
      ],
      "metadata": {
        "id": "dHn0kYIAjH_i"
      }
    },
    {
      "cell_type": "code",
      "source": [
        "from matplotlib.colors import ListedColormap\n",
        "\n",
        "x_set, y_set = x_train, y_train\n",
        "x1, x2 = np.meshgrid(np.arange(start = x_set[:, 0].min()-1, stop=x_set[:,0].max()+1 , step=0.01),\n",
        "                     np.arange(start = x_set[:, 1].min()-1, stop=x_set[:,1].max()+1 , step=0.01))\n",
        "\n",
        "plt.contourf(x1, x2, classfier.predict(np.array([x1.ravel(), x2.ravel()]).T).reshape(x1.shape),alpha = 0.75, cmap = ListedColormap(('red','green')))\n",
        "\n",
        "plt.xlim(x1.min(), x1.max())\n",
        "plt.ylim(x2.min(), x2.max())\n",
        "for i, j in enumerate (np.unique(y_set)):\n",
        "  plt.scatter(x_set[y_set == j, 0], x_set[y_set == j, 1],\n",
        "              c = ListedColormap(('red', 'green'))(i), label = j)\n",
        "plt.title('Klasifikasi Data dengan K-NN (Data Training)')\n",
        "plt.xlabel('Umur')\n",
        "plt.ylabel('Estimasi Gaji')\n",
        "plt.legend()\n",
        "plt.show()"
      ],
      "metadata": {
        "colab": {
          "base_uri": "https://localhost:8080/",
          "height": 350
        },
        "id": "EWJohfxDj-k7",
        "outputId": "e869f671-6c1c-4a7e-ff98-9ede20a9a2a4"
      },
      "execution_count": 40,
      "outputs": [
        {
          "output_type": "stream",
          "name": "stderr",
          "text": [
            "WARNING:matplotlib.axes._axes:*c* argument looks like a single numeric RGB or RGBA sequence, which should be avoided as value-mapping will have precedence in case its length matches with *x* & *y*.  Please use the *color* keyword-argument or provide a 2-D array with a single row if you intend to specify the same RGB or RGBA value for all points.\n",
            "WARNING:matplotlib.axes._axes:*c* argument looks like a single numeric RGB or RGBA sequence, which should be avoided as value-mapping will have precedence in case its length matches with *x* & *y*.  Please use the *color* keyword-argument or provide a 2-D array with a single row if you intend to specify the same RGB or RGBA value for all points.\n"
          ]
        },
        {
          "output_type": "display_data",
          "data": {
            "text/plain": [
              "<Figure size 432x288 with 1 Axes>"
            ],
            "image/png": "[encoded data removed]"
          },
          "metadata": {
            "needs_background": "light"
          }
        }
      ]
    },
    {
      "cell_type": "code",
      "source": [
        "from matplotlib.colors import ListedColormap\n",
        "\n",
        "x_set, y_set = x_test, y_test\n",
        "x1, x2 = np.meshgrid(np.arange(start = x_set[:, 0].min()-1, stop=x_set[:,0].max()+1 , step=0.01),\n",
        "                     np.arange(start = x_set[:, 1].min()-1, stop=x_set[:,1].max()+1 , step=0.01))\n",
        "\n",
        "plt.contourf(x1, x2, classfier.predict(np.array([x1.ravel(), x2.ravel()]).T).reshape(x1.shape),alpha = 0.75, cmap = ListedColormap(('red','green')))\n",
        "\n",
        "plt.xlim(x1.min(), x1.max())\n",
        "plt.ylim(x2.min(), x2.max())\n",
        "for i, j in enumerate (np.unique(y_set)):\n",
        "  plt.scatter(x_set[y_set == j, 0], x_set[y_set == j, 1],\n",
        "              c = ListedColormap(('red', 'green'))(i), label = j)\n",
        "plt.title('Klasifikasi Data dengan K-NN (Data Testing)')\n",
        "plt.xlabel('Umur')\n",
        "plt.ylabel('Estimasi Gaji')\n",
        "plt.legend()\n",
        "plt.show()"
      ],
      "metadata": {
        "colab": {
          "base_uri": "https://localhost:8080/",
          "height": 350
        },
        "id": "Kjj7EBcToXL3",
        "outputId": "34ebf034-ae6c-4a1f-ee62-cca4a8a6e1b1"
      },
      "execution_count": 41,
      "outputs": [
        {
          "output_type": "stream",
          "name": "stderr",
          "text": [
            "WARNING:matplotlib.axes._axes:*c* argument looks like a single numeric RGB or RGBA sequence, which should be avoided as value-mapping will have precedence in case its length matches with *x* & *y*.  Please use the *color* keyword-argument or provide a 2-D array with a single row if you intend to specify the same RGB or RGBA value for all points.\n",
            "WARNING:matplotlib.axes._axes:*c* argument looks like a single numeric RGB or RGBA sequence, which should be avoided as value-mapping will have precedence in case its length matches with *x* & *y*.  Please use the *color* keyword-argument or provide a 2-D array with a single row if you intend to specify the same RGB or RGBA value for all points.\n"
          ]
        },
        {
          "output_type": "display_data",
          "data": {
            "text/plain": [
              "<Figure size 432x288 with 1 Axes>"
            ],
            "image/png": "[encoded data removed]"
          },
          "metadata": {
            "needs_background": "light"
          }
        }
      ]
    }
  ]
}